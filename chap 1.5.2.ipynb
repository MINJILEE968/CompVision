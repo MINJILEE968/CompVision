{
 "cells": [
  {
   "cell_type": "markdown",
   "metadata": {},
   "source": [
    "# 1.5.2 Harris Corner Detection"
   ]
  },
  {
   "cell_type": "code",
   "execution_count": 1,
   "metadata": {},
   "outputs": [],
   "source": [
    "import cv2\n",
    "import numpy as np"
   ]
  },
  {
   "cell_type": "code",
   "execution_count": 2,
   "metadata": {},
   "outputs": [],
   "source": [
    "filename = 'horse-beach.bmp'\n",
    "img = cv2.imread(filename)\n",
    "gray = cv2.cvtColor(img,cv2.COLOR_BGR2GRAY)\n",
    "gray = np.float32(gray)\n",
    "dst = cv2.cornerHarris(gray,2,3,0.04)"
   ]
  },
  {
   "cell_type": "code",
   "execution_count": 3,
   "metadata": {},
   "outputs": [],
   "source": [
    "#result is dilated for marking the corners, not important\n",
    "dst = cv2.dilate(dst,None)"
   ]
  },
  {
   "cell_type": "code",
   "execution_count": 4,
   "metadata": {},
   "outputs": [],
   "source": [
    "# Threshold for an optimal value, it may vary depending on the image.\n",
    "img[dst>0.001*dst.max()]=[0,0,255]"
   ]
  },
  {
   "cell_type": "code",
   "execution_count": 5,
   "metadata": {},
   "outputs": [],
   "source": [
    "cv2.imshow('dst',img)\n",
    "if cv2.waitKey(0) & 0xff == 27:\n",
    "    cv2.destroyAllWindows()"
   ]
  },
  {
   "cell_type": "markdown",
   "metadata": {},
   "source": [
    "## with Trackbar"
   ]
  },
  {
   "cell_type": "code",
   "execution_count": 6,
   "metadata": {},
   "outputs": [],
   "source": [
    "def nothing(x):\n",
    "    pass"
   ]
  },
  {
   "cell_type": "code",
   "execution_count": 7,
   "metadata": {},
   "outputs": [],
   "source": [
    "cv2.namedWindow('image')\n",
    "cv2.createTrackbar('threshold','image',10,100,nothing)\n",
    "while(1):\n",
    "    k=cv2.waitKey(1) & 0xFF\n",
    "    if k == 27:\n",
    "        break\n",
    "    threshold = cv2.getTrackbarPos('threshold','image')\n",
    "    if(threshold <= 1):\n",
    "        threshold=1\n",
    "    img = cv2.imread(filename)\n",
    "    img[dst>1./threshold*dst.max()]=[0,0,255]\n",
    "    cv2.imshow('image',img)\n",
    "cv2.destroyAllWindows()"
   ]
  },
  {
   "cell_type": "markdown",
   "metadata": {},
   "source": [
    "## Corner with SubPixel Accuracy"
   ]
  },
  {
   "cell_type": "code",
   "execution_count": 8,
   "metadata": {},
   "outputs": [],
   "source": [
    "import cv2\n",
    "import numpy as np"
   ]
  },
  {
   "cell_type": "code",
   "execution_count": 9,
   "metadata": {},
   "outputs": [],
   "source": [
    "filename = 'horse-beach.bmp'\n",
    "img = cv2.imread(filename)\n",
    "gray = cv2.cvtColor(img,cv2.COLOR_BGR2GRAY)"
   ]
  },
  {
   "cell_type": "code",
   "execution_count": 10,
   "metadata": {},
   "outputs": [
    {
     "name": "stdout",
     "output_type": "stream",
     "text": [
      "680406.48 (446, 350)\n"
     ]
    }
   ],
   "source": [
    "# find Harris corners\n",
    "gray = np.float32(gray)\n",
    "dst = cv2.cornerHarris(gray,2,3,0.04)\n",
    "dst = cv2.dilate(dst,None)\n",
    "ret, dst = cv2.threshold(dst,0.01*dst.max(),255,0)\n",
    "dst = np.uint8(dst)\n",
    "print(ret,dst.shape)"
   ]
  },
  {
   "cell_type": "code",
   "execution_count": 11,
   "metadata": {},
   "outputs": [],
   "source": [
    "# find centroids\n",
    "ret, labels, stats, centroids = cv2.connectedComponentsWithStats(dst)"
   ]
  },
  {
   "cell_type": "code",
   "execution_count": 12,
   "metadata": {},
   "outputs": [],
   "source": [
    "# define the criteria to stop and refine the corners\n",
    "criteria = (cv2.TERM_CRITERIA_EPS + cv2.TERM_CRITERIA_MAX_ITER, 100, 0.001)\n",
    "corners = cv2.cornerSubPix(gray,np.float32(centroids),(5,5),(-1,-1),criteria)"
   ]
  },
  {
   "cell_type": "code",
   "execution_count": 13,
   "metadata": {},
   "outputs": [
    {
     "data": {
      "text/plain": [
       "True"
      ]
     },
     "execution_count": 13,
     "metadata": {},
     "output_type": "execute_result"
    }
   ],
   "source": [
    "# Now draw them\n",
    "res = np.hstack((centroids,corners))\n",
    "res = np.int0(res)\n",
    "img[res[:,1],res[:,0]]=[0,0,255]\n",
    "img[res[:,3],res[:,2]] = [0,255,0]\n",
    "cv2.imwrite('subpixel5.png',img)"
   ]
  },
  {
   "cell_type": "code",
   "execution_count": 14,
   "metadata": {},
   "outputs": [
    {
     "data": {
      "text/plain": [
       "True"
      ]
     },
     "execution_count": 14,
     "metadata": {},
     "output_type": "execute_result"
    }
   ],
   "source": [
    "img[res[:,1],res[:,0]]=[0,0,255]\n",
    "img[res[:,3],res[:,2]] = [0,255,0]\n",
    "cv2.imwrite('subpixel5.png',img)"
   ]
  },
  {
   "cell_type": "code",
   "execution_count": 15,
   "metadata": {},
   "outputs": [],
   "source": [
    "cv2.imshow('dst',img)\n",
    "cv2.waitKey(0)\n",
    "cv2.destroyAllWindows()"
   ]
  },
  {
   "cell_type": "code",
   "execution_count": 16,
   "metadata": {},
   "outputs": [
    {
     "data": {
      "text/plain": [
       "array([217,   2,   7,  12,  18,  22,  23,  31,  41,  44,  45,  47,  58,\n",
       "        59,  65,  66,  69,  72,  83,  91,  98,  97, 103, 109, 110, 120,\n",
       "       123, 125, 128, 136, 136, 145, 145, 146, 145, 148, 150, 151, 152,\n",
       "       153, 154, 156, 154, 155, 158, 159, 161, 165, 161, 163, 165, 167,\n",
       "       168, 167, 167, 170, 169, 182, 171, 178, 175, 177, 179, 185, 177,\n",
       "       178, 179, 183, 182, 183, 188, 188, 188, 189, 193, 194, 195, 199,\n",
       "       201, 203, 207, 206, 205, 207, 210, 210, 213, 211, 213, 218, 217,\n",
       "       218, 217, 220, 221, 220, 221, 223, 222, 222, 223, 227, 226, 229,\n",
       "       235, 230, 231, 235, 237, 239, 241, 240, 240, 242, 241, 242, 244,\n",
       "       244, 246, 252, 253, 256, 258, 260, 261, 261, 263, 264, 263, 265,\n",
       "       268, 266, 269, 267, 269, 274, 273, 272, 273, 274, 274, 275, 278,\n",
       "       281, 277, 280, 277, 279, 280, 281, 283, 282, 286, 292, 291, 294,\n",
       "       290, 289, 289, 292, 294, 293, 298, 293, 293, 295, 298, 293, 293,\n",
       "       300, 297, 299, 297, 303, 303, 304, 309, 306, 307, 307, 307, 308,\n",
       "       307, 311, 310, 309, 309, 311, 312, 312, 315, 313, 314, 313, 313,\n",
       "       317, 316, 315, 318, 318, 319, 322, 320, 322, 322, 323, 323, 324,\n",
       "       324, 324, 325, 326, 332, 330, 331, 330, 332, 330, 331, 332, 332,\n",
       "       331, 333, 335, 335, 335, 337, 338, 344, 341, 345, 339, 339, 342,\n",
       "       343, 345, 343, 346, 347, 348, 347, 348, 348, 351, 349, 350, 349,\n",
       "       350, 356, 351, 351, 352, 355, 355, 360, 358, 363, 366, 367, 373,\n",
       "       376, 377, 378, 382, 380, 382, 381, 381, 383, 385, 385, 386, 385,\n",
       "       386, 386, 389, 390, 392, 391, 391, 392, 392, 392, 398, 394, 393,\n",
       "       395, 398, 395, 398, 399, 400, 403, 401, 402, 409, 404, 403, 402,\n",
       "       403, 405, 404, 404, 407, 406, 409, 409, 408, 408, 409, 407, 413,\n",
       "       410, 409, 409, 412, 414, 411, 411, 411, 413, 416, 415, 414, 417,\n",
       "       417, 420, 423, 423, 421, 423, 423, 424, 424, 423, 426, 424, 424,\n",
       "       428, 432, 432, 431, 432, 430, 430, 434, 436, 431, 433, 434, 433,\n",
       "       436, 438, 436, 436, 439, 436, 439, 439, 437, 438, 437, 438, 439,\n",
       "       439, 439, 439, 441, 441, 442, 444, 443, 443, 443, 444, 444, 444],\n",
       "      dtype=int64)"
      ]
     },
     "execution_count": 16,
     "metadata": {},
     "output_type": "execute_result"
    }
   ],
   "source": [
    "res[:,1]"
   ]
  },
  {
   "cell_type": "code",
   "execution_count": 17,
   "metadata": {},
   "outputs": [],
   "source": [
    "for i in range(res.shape[0]):\n",
    "    cv2.circle(img,(res[i,0],res[i,1]),2,(0,0,255),-1)\n",
    "    cv2.circle(img,(res[i,2],res[i,3]),3,(0,255,0),-1)"
   ]
  },
  {
   "cell_type": "code",
   "execution_count": 19,
   "metadata": {},
   "outputs": [],
   "source": [
    "cv2.imshow('dst',img)\n",
    "cv2.waitKey(0)\n",
    "cv2.destroyAllWindows()"
   ]
  }
 ],
 "metadata": {
  "kernelspec": {
   "display_name": "Python 3",
   "language": "python",
   "name": "python3"
  },
  "language_info": {
   "codemirror_mode": {
    "name": "ipython",
    "version": 3
   },
   "file_extension": ".py",
   "mimetype": "text/x-python",
   "name": "python",
   "nbconvert_exporter": "python",
   "pygments_lexer": "ipython3",
   "version": "3.8.3"
  }
 },
 "nbformat": 4,
 "nbformat_minor": 4
}
